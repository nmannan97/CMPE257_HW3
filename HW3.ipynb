{
 "cells": [
  {
   "cell_type": "markdown",
   "metadata": {},
   "source": [
    "## PART A (Random points) \n",
    "\n",
    "5 Points"
   ]
  },
  {
   "cell_type": "code",
   "execution_count": 1,
   "metadata": {},
   "outputs": [],
   "source": [
    "import numpy as np"
   ]
  },
  {
   "cell_type": "code",
   "execution_count": 9,
   "metadata": {},
   "outputs": [],
   "source": [
    "# generate the data\n",
    "def generate_data(r):\n",
    "    x1_1 = []\n",
    "    x1_2 = []\n",
    "    x2_1 = []\n",
    "    x2_2 = []\n",
    "    for i in range(r):\n",
    "        x1_1.append(np.random.uniform(0,1))\n",
    "        x1_2.append(np.random.uniform(0,1))\n",
    "        x2_1.append(np.random.uniform(-1,0))\n",
    "        x2_2.append(np.random.uniform(-1,0))\n",
    "        \n",
    "    data1 = [np.array([1,x1_1[i],x1_2[i],1]) for i in range(r)]\n",
    "    data2 = [np.array([1,x2_1[i],x2_2[i],0]) for i in range(r)]\n",
    "    data = data1 + data2\n",
    "\n",
    "    data = np.array(data)\n",
    "    np.random.shuffle(data)\n",
    "    return data\n",
    "\n",
    "data = generate_data(1000)"
   ]
  },
  {
   "cell_type": "code",
   "execution_count": 10,
   "metadata": {},
   "outputs": [
    {
     "data": {
      "text/plain": [
       "(2000, 4)"
      ]
     },
     "execution_count": 10,
     "metadata": {},
     "output_type": "execute_result"
    }
   ],
   "source": [
    "data.shape"
   ]
  },
  {
   "cell_type": "code",
   "execution_count": 14,
   "metadata": {},
   "outputs": [
    {
     "data": {
      "text/plain": [
       "array([[ 1.        ,  0.21748829,  0.33043073,  1.        ],\n",
       "       [ 1.        ,  0.95911657,  0.75519102,  1.        ],\n",
       "       [ 1.        , -0.64823533, -0.90730646,  0.        ],\n",
       "       ...,\n",
       "       [ 1.        ,  0.33142104,  0.88026107,  1.        ],\n",
       "       [ 1.        , -0.06976734, -0.55280865,  0.        ],\n",
       "       [ 1.        ,  0.81789405,  0.345142  ,  1.        ]])"
      ]
     },
     "execution_count": 14,
     "metadata": {},
     "output_type": "execute_result"
    }
   ],
   "source": [
    "# Random dataset for PART A\n",
    "# [x1, x2, x3, Y]\n",
    "data"
   ]
  },
  {
   "cell_type": "code",
   "execution_count": 6,
   "metadata": {},
   "outputs": [],
   "source": [
    "# Plot data"
   ]
  },
  {
   "cell_type": "code",
   "execution_count": 7,
   "metadata": {},
   "outputs": [],
   "source": [
    "# Perform logistic regression\n",
    "# 1. Compute cost function\n",
    "# 2. Compute Gradient function\n",
    "# Use the lecture slides as reference for equations"
   ]
  },
  {
   "cell_type": "code",
   "execution_count": 8,
   "metadata": {},
   "outputs": [],
   "source": [
    "# Plot your hypothesis function that classifies the dataset"
   ]
  },
  {
   "cell_type": "code",
   "execution_count": null,
   "metadata": {},
   "outputs": [],
   "source": [
    "# Repeat using sklearn library to obtain you hypothesis and plot it"
   ]
  },
  {
   "cell_type": "markdown",
   "metadata": {},
   "source": [
    "## PART B (Diabetes Dataset)\n",
    "\n",
    "5 Points"
   ]
  },
  {
   "cell_type": "code",
   "execution_count": 12,
   "metadata": {},
   "outputs": [],
   "source": [
    "# Load the diabetes dataset\n",
    "# Analyze the features (plot graphs and explain your findings)\n",
    "# Split data into Training and Test and predict accuracy"
   ]
  },
  {
   "cell_type": "code",
   "execution_count": null,
   "metadata": {},
   "outputs": [],
   "source": []
  }
 ],
 "metadata": {
  "kernelspec": {
   "display_name": "Python 3",
   "language": "python",
   "name": "python3"
  },
  "language_info": {
   "codemirror_mode": {
    "name": "ipython",
    "version": 3
   },
   "file_extension": ".py",
   "mimetype": "text/x-python",
   "name": "python",
   "nbconvert_exporter": "python",
   "pygments_lexer": "ipython3",
   "version": "3.6.5"
  }
 },
 "nbformat": 4,
 "nbformat_minor": 4
}
